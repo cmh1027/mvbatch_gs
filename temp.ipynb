{
 "cells": [
  {
   "cell_type": "code",
   "execution_count": null,
   "metadata": {},
   "outputs": [],
   "source": [
    "import numpy as np\n",
    "from scipy.fftpack import fft2, fftshift\n",
    "import matplotlib.pyplot as plt\n",
    "from PIL import Image\n"
   ]
  },
  {
   "cell_type": "code",
   "execution_count": null,
   "metadata": {},
   "outputs": [],
   "source": [
    "def compare_images_frequency(image1, image2):\n",
    "    # Compute the FFT of both images\n",
    "    image1_freq = fftshift(fft2(image1))\n",
    "    image2_freq = fftshift(fft2(image2))\n",
    "    \n",
    "    # Compute the magnitude spectrum\n",
    "    magnitude1 = np.abs(image1_freq)\n",
    "    magnitude2 = np.abs(image2_freq)\n",
    "    \n",
    "    # Visualize the magnitude spectra\n",
    "    plt.figure(figsize=(10, 5))\n",
    "    plt.subplot(1, 2, 1)\n",
    "    plt.imshow(np.log(1 + magnitude1), cmap='gray')\n",
    "    plt.title(\"Image 1 Frequency Magnitude\")\n",
    "    \n",
    "    plt.subplot(1, 2, 2)\n",
    "    plt.imshow(np.log(1 + magnitude2), cmap='gray')\n",
    "    plt.title(\"Image 2 Frequency Magnitude\")\n",
    "    \n",
    "    plt.show()\n",
    "\n",
    "# Example usage: pass two images to compare_images_frequency(image1, image2)"
   ]
  },
  {
   "cell_type": "code",
   "execution_count": null,
   "metadata": {},
   "outputs": [],
   "source": [
    "img1 = Image.open('output/bonsai/base')"
   ]
  }
 ],
 "metadata": {
  "kernelspec": {
   "display_name": "3dgs-mcmc-env",
   "language": "python",
   "name": "python3"
  },
  "language_info": {
   "name": "python",
   "version": "3.8.19"
  }
 },
 "nbformat": 4,
 "nbformat_minor": 2
}
