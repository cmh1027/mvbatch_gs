{
 "cells": [
  {
   "cell_type": "code",
   "execution_count": 10,
   "metadata": {},
   "outputs": [],
   "source": [
    "import numpy as np\n",
    "import cv2\n",
    "import matplotlib.pyplot as plt\n",
    "from glob import glob\n",
    "import os.path as osp\n",
    "from tqdm import tqdm\n",
    "def calculate_high_frequency_energy(image, threshold_radius=50):\n",
    "    # Step 1: Convert to grayscale\n",
    "    gray_image = cv2.cvtColor(image, cv2.COLOR_BGR2GRAY)\n",
    "    \n",
    "    # Step 2: Apply FFT and shift the zero frequency to the center\n",
    "    f = np.fft.fft2(gray_image)\n",
    "    fshift = np.fft.fftshift(f)\n",
    "    \n",
    "    # Step 3: Get the magnitude spectrum\n",
    "    magnitude_spectrum = np.abs(fshift)\n",
    "    \n",
    "    # Step 4: Create a mask to isolate high-frequency components\n",
    "    rows, cols = gray_image.shape\n",
    "    crow, ccol = rows // 2 , cols // 2  # Center of the frequency image\n",
    "    mask = np.ones((rows, cols), np.uint8)\n",
    "    cv2.circle(mask, (ccol, crow), threshold_radius, 0, thickness=-1)  # Remove low-frequency components\n",
    "    \n",
    "    # Step 5: Apply the mask\n",
    "    high_freq_magnitude = magnitude_spectrum * mask\n",
    "    \n",
    "    # Step 6: Calculate energy (sum of squared magnitudes in high-frequency region)\n",
    "    high_frequency_energy = np.sum(np.square(high_freq_magnitude))\n",
    "    \n",
    "    return high_frequency_energy, magnitude_spectrum, mask, high_freq_magnitude\n",
    "\n"
   ]
  },
  {
   "cell_type": "code",
   "execution_count": 16,
   "metadata": {},
   "outputs": [],
   "source": [
    "def high_frequency_energy(path):\n",
    "    energies = []\n",
    "    for path in tqdm(glob(osp.join(path, \"images_4\", \"*\"))):\n",
    "        image = cv2.imread(path)\n",
    "        high_frequency_energy, magnitude_spectrum, mask, high_freq_magnitude = calculate_high_frequency_energy(image)\n",
    "        energies.append(np.log(high_frequency_energy))\n",
    "    energies = np.array(energies)\n",
    "    return energies.mean()"
   ]
  },
  {
   "cell_type": "code",
   "execution_count": 17,
   "metadata": {},
   "outputs": [
    {
     "name": "stderr",
     "output_type": "stream",
     "text": [
      "100%|██████████| 194/194 [00:21<00:00,  9.22it/s]\n"
     ]
    },
    {
     "name": "stdout",
     "output_type": "stream",
     "text": [
      "bicycle : 34.02963987620036\n"
     ]
    },
    {
     "name": "stderr",
     "output_type": "stream",
     "text": [
      "100%|██████████| 584/584 [00:15<00:00, 38.67it/s]\n"
     ]
    },
    {
     "name": "stdout",
     "output_type": "stream",
     "text": [
      "bonsai : 30.900883839071852\n"
     ]
    },
    {
     "name": "stderr",
     "output_type": "stream",
     "text": [
      "100%|██████████| 240/240 [00:08<00:00, 29.70it/s]\n"
     ]
    },
    {
     "name": "stdout",
     "output_type": "stream",
     "text": [
      "counter : 31.145446534433123\n"
     ]
    },
    {
     "name": "stderr",
     "output_type": "stream",
     "text": [
      "100%|██████████| 173/173 [00:15<00:00, 11.38it/s]\n"
     ]
    },
    {
     "name": "stdout",
     "output_type": "stream",
     "text": [
      "flowers : 34.2928323389537\n"
     ]
    },
    {
     "name": "stderr",
     "output_type": "stream",
     "text": [
      "100%|██████████| 555/555 [00:36<00:00, 15.19it/s]\n"
     ]
    },
    {
     "name": "stdout",
     "output_type": "stream",
     "text": [
      "garden : 33.691269487161286\n"
     ]
    },
    {
     "name": "stderr",
     "output_type": "stream",
     "text": [
      "100%|██████████| 279/279 [00:06<00:00, 40.83it/s]\n"
     ]
    },
    {
     "name": "stdout",
     "output_type": "stream",
     "text": [
      "kitchen : 31.339615156361248\n"
     ]
    },
    {
     "name": "stderr",
     "output_type": "stream",
     "text": [
      "100%|██████████| 311/311 [00:10<00:00, 30.85it/s]\n"
     ]
    },
    {
     "name": "stdout",
     "output_type": "stream",
     "text": [
      "room : 30.673900297309288\n"
     ]
    },
    {
     "name": "stderr",
     "output_type": "stream",
     "text": [
      "100%|██████████| 125/125 [00:08<00:00, 14.56it/s]\n"
     ]
    },
    {
     "name": "stdout",
     "output_type": "stream",
     "text": [
      "stump : 33.48920988198713\n"
     ]
    },
    {
     "name": "stderr",
     "output_type": "stream",
     "text": [
      "100%|██████████| 141/141 [00:12<00:00, 10.92it/s]"
     ]
    },
    {
     "name": "stdout",
     "output_type": "stream",
     "text": [
      "treehill : 34.0563395085374\n"
     ]
    },
    {
     "name": "stderr",
     "output_type": "stream",
     "text": [
      "\n"
     ]
    }
   ],
   "source": [
    "for scene in [\"bicycle\", \"bonsai\", \"counter\", \"flowers\", \"garden\", \"kitchen\", \"room\", \"stump\", \"treehill\"]:\n",
    "    root = f\"data/mipnerf360/{scene}\"\n",
    "    print(f\"{scene} : {high_frequency_energy(root)}\")"
   ]
  },
  {
   "cell_type": "code",
   "execution_count": null,
   "metadata": {},
   "outputs": [],
   "source": []
  }
 ],
 "metadata": {
  "kernelspec": {
   "display_name": "3dgs-base",
   "language": "python",
   "name": "python3"
  },
  "language_info": {
   "codemirror_mode": {
    "name": "ipython",
    "version": 3
   },
   "file_extension": ".py",
   "mimetype": "text/x-python",
   "name": "python",
   "nbconvert_exporter": "python",
   "pygments_lexer": "ipython3",
   "version": "3.8.19"
  }
 },
 "nbformat": 4,
 "nbformat_minor": 2
}
