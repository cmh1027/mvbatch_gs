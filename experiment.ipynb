{
 "cells": [
  {
   "cell_type": "code",
   "execution_count": 4,
   "metadata": {},
   "outputs": [
    {
     "name": "stdout",
     "output_type": "stream",
     "text": [
      "(206613, 3)\n"
     ]
    }
   ],
   "source": [
    "import numpy as np\n",
    "from plyfile import PlyData\n",
    "path  = \"data/mipnerf360/bonsai/sparse/0/points3D.ply\"\n",
    "\n",
    "plydata = PlyData.read(path)\n",
    "vertices = plydata['vertex']\n",
    "positions = np.vstack([vertices['x'], vertices['y'], vertices['z']]).T\n",
    "print(positions.shape)\n"
   ]
  },
  {
   "cell_type": "code",
   "execution_count": 7,
   "metadata": {},
   "outputs": [
    {
     "name": "stdout",
     "output_type": "stream",
     "text": [
      "Original point cloud has 206613 points.\n",
      "Downsampled point cloud has 45035 points.\n"
     ]
    }
   ],
   "source": [
    "import open3d as o3d\n",
    "\n",
    "# Load your point cloud file\n",
    "point_cloud = o3d.io.read_point_cloud(\"data/mipnerf360/bonsai/sparse/0/points3D.ply\")\n",
    "\n",
    "# Display the original point cloud\n",
    "print(f\"Original point cloud has {len(point_cloud.points)} points.\")\n",
    "\n",
    "\n",
    "# Downsample the point cloud using voxel grid\n",
    "voxel_size = 0.1  # Adjust voxel size based on your requirements\n",
    "downsampled_point_cloud = point_cloud.voxel_down_sample(voxel_size)\n",
    "\n",
    "# Display the downscaled point cloud\n",
    "print(f\"Downsampled point cloud has {len(downsampled_point_cloud.points)} points.\")\n",
    "\n",
    "\n",
    "# o3d.io.write_point_cloud(\"downsampled_point_cloud.ply\", downsampled_point_cloud)"
   ]
  },
  {
   "cell_type": "code",
   "execution_count": 11,
   "metadata": {},
   "outputs": [
    {
     "name": "stdout",
     "output_type": "stream",
     "text": [
      "0.39000000000000024 9857\n"
     ]
    }
   ],
   "source": [
    "num_pts = 1e+8\n",
    "voxel_size = 0.1\n",
    "while num_pts > 10000:\n",
    "    downsampled_point_cloud = point_cloud.voxel_down_sample(voxel_size)\n",
    "    num_pts = len(downsampled_point_cloud.points)\n",
    "    voxel_size += 0.01\n",
    "\n",
    "print(voxel_size, len(downsampled_point_cloud.points))"
   ]
  }
 ],
 "metadata": {
  "kernelspec": {
   "display_name": "Python 3",
   "language": "python",
   "name": "python3"
  },
  "language_info": {
   "codemirror_mode": {
    "name": "ipython",
    "version": 3
   },
   "file_extension": ".py",
   "mimetype": "text/x-python",
   "name": "python",
   "nbconvert_exporter": "python",
   "pygments_lexer": "ipython3",
   "version": "3.8.19"
  }
 },
 "nbformat": 4,
 "nbformat_minor": 2
}
